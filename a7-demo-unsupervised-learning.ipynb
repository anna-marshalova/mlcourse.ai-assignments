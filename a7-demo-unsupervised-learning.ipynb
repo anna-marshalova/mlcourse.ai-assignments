{
 "cells": [
  {
   "cell_type": "markdown",
   "metadata": {
    "_uuid": "8ccb4ff4aaeaae5004d2203e0149a7c416bd7c4b"
   },
   "source": [
    "<center>\n",
    "<img src=\"https://habrastorage.org/webt/ia/m9/zk/iam9zkyzqebnf_okxipihkgjwnw.jpeg\">\n",
    "    \n",
    "## <center> [mlcourse.ai](https://mlcourse.ai) – Open Machine Learning Course\n",
    "Authors: [Olga Daykhovskaya](https://www.linkedin.com/in/odaykhovskaya/), [Yury Kashnitsky](https://yorko.github.io/). All content is distributed under the [Creative Commons CC BY-NC-SA 4.0](https://creativecommons.org/licenses/by-nc-sa/4.0/) license. Free use is permitted for any non-commercial purpose."
   ]
  },
  {
   "cell_type": "markdown",
   "metadata": {
    "_uuid": "fb758fbaa68c09ce13b31fd6982499c2212de2a1"
   },
   "source": [
    "# <center>Assignment #7 (demo)\n",
    "## <center> Unsupervised learning"
   ]
  },
  {
   "cell_type": "markdown",
   "metadata": {
    "_uuid": "19ed99767bc346b8cabd9c285c46d78341b68ac0"
   },
   "source": [
    "In this task, we will look at how data dimensionality reduction and clustering methods work. At the same time, we'll practice solving classification task again.\n",
    "\n",
    "We will work with the [Samsung Human Activity Recognition](https://archive.ics.uci.edu/ml/datasets/Human+Activity+Recognition+Using+Smartphones) dataset. Download the data [here](https://drive.google.com/file/d/14RukQ0ylM2GCdViUHBBjZ2imCaYcjlux/view?usp=sharing). The data comes from accelerometers and gyros of Samsung Galaxy S3 mobile phones ( you can find more info about the features using the link above), the type of activity of a person with a phone in his/her pocket is also known – whether he/she walked, stood, lay, sat or walked up or down the stairs.\n",
    "\n",
    "First, we pretend that the type of activity is unknown to us, and we will try to cluster people purely on the basis of available features. Then we solve the problem of determining the type of physical activity as a classification problem.\n",
    "\n",
    "Fill the code where needed (\"Your code is here\") and answer the questions in the [web form](https://docs.google.com/forms/d/1wBf5UoRndv6PpzIwYnM9f0ysoGa4Yqcqle-HBlBP5QQ/edit)."
   ]
  },
  {
   "cell_type": "code",
   "execution_count": 1,
   "metadata": {
    "execution": {
     "iopub.execute_input": "2023-08-15T15:04:47.462024Z",
     "iopub.status.busy": "2023-08-15T15:04:47.461622Z",
     "iopub.status.idle": "2023-08-15T15:07:24.895232Z",
     "shell.execute_reply": "2023-08-15T15:07:24.893356Z",
     "shell.execute_reply.started": "2023-08-15T15:04:47.461952Z"
    }
   },
   "outputs": [
    {
     "name": "stdout",
     "output_type": "stream",
     "text": [
      "\u001b[33mRetrying (Retry(total=4, connect=None, read=None, redirect=None, status=None)) after connection broken by 'NewConnectionError('<pip._vendor.urllib3.connection.VerifiedHTTPSConnection object at 0x7a08325e1908>: Failed to establish a new connection: [Errno -3] Temporary failure in name resolution',)': /simple/matplotlib/\u001b[0m\r\n",
      "\u001b[33mRetrying (Retry(total=3, connect=None, read=None, redirect=None, status=None)) after connection broken by 'NewConnectionError('<pip._vendor.urllib3.connection.VerifiedHTTPSConnection object at 0x7a08325e1e80>: Failed to establish a new connection: [Errno -3] Temporary failure in name resolution',)': /simple/matplotlib/\u001b[0m\r\n",
      "\u001b[33mRetrying (Retry(total=2, connect=None, read=None, redirect=None, status=None)) after connection broken by 'NewConnectionError('<pip._vendor.urllib3.connection.VerifiedHTTPSConnection object at 0x7a08325e1c50>: Failed to establish a new connection: [Errno -3] Temporary failure in name resolution',)': /simple/matplotlib/\u001b[0m\r\n",
      "\u001b[33mRetrying (Retry(total=1, connect=None, read=None, redirect=None, status=None)) after connection broken by 'NewConnectionError('<pip._vendor.urllib3.connection.VerifiedHTTPSConnection object at 0x7a08325e1da0>: Failed to establish a new connection: [Errno -3] Temporary failure in name resolution',)': /simple/matplotlib/\u001b[0m\r\n",
      "\u001b[33mRetrying (Retry(total=0, connect=None, read=None, redirect=None, status=None)) after connection broken by 'NewConnectionError('<pip._vendor.urllib3.connection.VerifiedHTTPSConnection object at 0x7a08325e1f28>: Failed to establish a new connection: [Errno -3] Temporary failure in name resolution',)': /simple/matplotlib/\u001b[0m\r\n",
      "Requirement already up-to-date: matplotlib in /opt/conda/lib/python3.6/site-packages (2.2.3)\r\n",
      "Requirement already satisfied, skipping upgrade: pyparsing!=2.0.4,!=2.1.2,!=2.1.6,>=2.0.1 in /opt/conda/lib/python3.6/site-packages (from matplotlib) (2.2.0)\r\n",
      "Requirement already satisfied, skipping upgrade: kiwisolver>=1.0.1 in /opt/conda/lib/python3.6/site-packages (from matplotlib) (1.0.1)\r\n",
      "Requirement already satisfied, skipping upgrade: cycler>=0.10 in /opt/conda/lib/python3.6/site-packages (from matplotlib) (0.10.0)\r\n",
      "Requirement already satisfied, skipping upgrade: six>=1.10 in /opt/conda/lib/python3.6/site-packages (from matplotlib) (1.12.0)\r\n",
      "Requirement already satisfied, skipping upgrade: python-dateutil>=2.1 in /opt/conda/lib/python3.6/site-packages (from matplotlib) (2.6.0)\r\n",
      "Requirement already satisfied, skipping upgrade: pytz in /opt/conda/lib/python3.6/site-packages (from matplotlib) (2018.4)\r\n",
      "Requirement already satisfied, skipping upgrade: numpy>=1.7.1 in /opt/conda/lib/python3.6/site-packages (from matplotlib) (1.16.2)\r\n",
      "Requirement already satisfied, skipping upgrade: setuptools in /opt/conda/lib/python3.6/site-packages (from kiwisolver>=1.0.1->matplotlib) (39.1.0)\r\n"
     ]
    }
   ],
   "source": [
    "!pip3 install --upgrade matplotlib"
   ]
  },
  {
   "cell_type": "code",
   "execution_count": 2,
   "metadata": {
    "_uuid": "49d35cc6431c8053964544de63bb91e638db1fa9",
    "execution": {
     "iopub.execute_input": "2023-08-15T17:05:46.693864Z",
     "iopub.status.busy": "2023-08-15T17:05:46.693546Z",
     "iopub.status.idle": "2023-08-15T17:05:48.111646Z",
     "shell.execute_reply": "2023-08-15T17:05:48.110389Z",
     "shell.execute_reply.started": "2023-08-15T17:05:46.693814Z"
    }
   },
   "outputs": [],
   "source": [
    "import os\n",
    "import numpy as np\n",
    "import pandas as pd\n",
    "import seaborn as sns\n",
    "from tqdm import tqdm_notebook\n",
    "\n",
    "%matplotlib inline\n",
    "from matplotlib import pyplot as plt\n",
    "plt.style.use(['seaborn-darkgrid'])\n",
    "plt.rcParams['figure.figsize'] = (12, 9)\n",
    "plt.rcParams['font.family'] = 'DejaVu Sans'\n",
    "\n",
    "from sklearn import metrics\n",
    "from sklearn.cluster import KMeans, AgglomerativeClustering, SpectralClustering\n",
    "from sklearn.decomposition import PCA\n",
    "from sklearn.model_selection import GridSearchCV\n",
    "from sklearn.preprocessing import StandardScaler\n",
    "from sklearn.svm import LinearSVC\n",
    "\n",
    "RANDOM_STATE = 17"
   ]
  },
  {
   "cell_type": "code",
   "execution_count": 3,
   "metadata": {
    "_uuid": "5a288069f3a890d7a37113ef2800e8a7b1dd1afb",
    "execution": {
     "iopub.execute_input": "2023-08-15T17:05:50.345165Z",
     "iopub.status.busy": "2023-08-15T17:05:50.344819Z",
     "iopub.status.idle": "2023-08-15T17:05:50.349506Z",
     "shell.execute_reply": "2023-08-15T17:05:50.348090Z",
     "shell.execute_reply.started": "2023-08-15T17:05:50.345085Z"
    }
   },
   "outputs": [],
   "source": [
    "# change this if necessary\n",
    "PATH_TO_SAMSUNG_DATA = \"../input\""
   ]
  },
  {
   "cell_type": "code",
   "execution_count": 4,
   "metadata": {
    "_uuid": "75b935cdfe1e013aae43db776e8db37a20e2ac6b",
    "execution": {
     "iopub.execute_input": "2023-08-15T17:05:51.214078Z",
     "iopub.status.busy": "2023-08-15T17:05:51.213682Z",
     "iopub.status.idle": "2023-08-15T17:05:55.680961Z",
     "shell.execute_reply": "2023-08-15T17:05:55.679628Z",
     "shell.execute_reply.started": "2023-08-15T17:05:51.214013Z"
    }
   },
   "outputs": [],
   "source": [
    "X_train = np.loadtxt(os.path.join(PATH_TO_SAMSUNG_DATA, \"samsung_train.txt\"))\n",
    "y_train = np.loadtxt(os.path.join(PATH_TO_SAMSUNG_DATA,\n",
    "                                  \"samsung_train_labels.txt\")).astype(int)\n",
    "\n",
    "X_test = np.loadtxt(os.path.join(PATH_TO_SAMSUNG_DATA, \"samsung_test.txt\"))\n",
    "y_test = np.loadtxt(os.path.join(PATH_TO_SAMSUNG_DATA,\n",
    "                                  \"samsung_test_labels.txt\")).astype(int)"
   ]
  },
  {
   "cell_type": "code",
   "execution_count": 5,
   "metadata": {
    "_uuid": "98b267f6cfd624a0458dabdde5525b27970978bc",
    "execution": {
     "iopub.execute_input": "2023-08-15T17:05:55.682860Z",
     "iopub.status.busy": "2023-08-15T17:05:55.682369Z",
     "iopub.status.idle": "2023-08-15T17:05:55.688656Z",
     "shell.execute_reply": "2023-08-15T17:05:55.687230Z",
     "shell.execute_reply.started": "2023-08-15T17:05:55.682807Z"
    }
   },
   "outputs": [],
   "source": [
    "# Checking dimensions\n",
    "assert(X_train.shape == (7352, 561) and y_train.shape == (7352,))\n",
    "assert(X_test.shape == (2947, 561) and y_test.shape == (2947,))"
   ]
  },
  {
   "cell_type": "markdown",
   "metadata": {
    "_uuid": "6ae636fe849d7d67db976feaa7ca2e25ba7c3795"
   },
   "source": [
    "For clustering, we do not need a target vector, so we'll work with the combination of training and test samples. Merge `X_train` with `X_test`, and `y_train` with `y_test`."
   ]
  },
  {
   "cell_type": "code",
   "execution_count": 6,
   "metadata": {
    "_uuid": "e57109377ec2f6c93542f038ccf57fc751f06812",
    "execution": {
     "iopub.execute_input": "2023-08-15T17:05:58.420922Z",
     "iopub.status.busy": "2023-08-15T17:05:58.420591Z",
     "iopub.status.idle": "2023-08-15T17:05:58.442455Z",
     "shell.execute_reply": "2023-08-15T17:05:58.441176Z",
     "shell.execute_reply.started": "2023-08-15T17:05:58.420873Z"
    }
   },
   "outputs": [],
   "source": [
    "X = np.concatenate((X_train, X_test))\n",
    "y = np.concatenate((y_train, y_test))\n",
    "assert X.shape == (7352 + 2947, 561)\n",
    "assert y.shape == (7352 + 2947,)"
   ]
  },
  {
   "cell_type": "markdown",
   "metadata": {
    "_uuid": "77c4ccbe64c015a09874cff61bf751b0e7917ef4"
   },
   "source": [
    "Define the number of unique values of the labels of the target class."
   ]
  },
  {
   "cell_type": "code",
   "execution_count": 7,
   "metadata": {
    "_uuid": "5a92a3783a446acf928972d3ec418f29a0cff6e0",
    "execution": {
     "iopub.execute_input": "2023-08-15T17:06:03.885023Z",
     "iopub.status.busy": "2023-08-15T17:06:03.884758Z",
     "iopub.status.idle": "2023-08-15T17:06:03.893056Z",
     "shell.execute_reply": "2023-08-15T17:06:03.892191Z",
     "shell.execute_reply.started": "2023-08-15T17:06:03.884981Z"
    }
   },
   "outputs": [
    {
     "data": {
      "text/plain": [
       "array([1, 2, 3, 4, 5, 6])"
      ]
     },
     "execution_count": 7,
     "metadata": {},
     "output_type": "execute_result"
    }
   ],
   "source": [
    "np.unique(y)"
   ]
  },
  {
   "cell_type": "code",
   "execution_count": 8,
   "metadata": {
    "_uuid": "e29b5a97cba7305053fbe12985eb3abaf012eeb0",
    "execution": {
     "iopub.execute_input": "2023-08-15T17:06:06.228790Z",
     "iopub.status.busy": "2023-08-15T17:06:06.228447Z",
     "iopub.status.idle": "2023-08-15T17:06:06.233260Z",
     "shell.execute_reply": "2023-08-15T17:06:06.232008Z",
     "shell.execute_reply.started": "2023-08-15T17:06:06.228730Z"
    }
   },
   "outputs": [],
   "source": [
    "n_classes = np.unique(y).size\n",
    "assert n_classes == 6"
   ]
  },
  {
   "cell_type": "code",
   "execution_count": 9,
   "metadata": {
    "execution": {
     "iopub.execute_input": "2023-08-15T17:06:08.173443Z",
     "iopub.status.busy": "2023-08-15T17:06:08.172807Z",
     "iopub.status.idle": "2023-08-15T17:06:08.178632Z",
     "shell.execute_reply": "2023-08-15T17:06:08.178061Z",
     "shell.execute_reply.started": "2023-08-15T17:06:08.173073Z"
    }
   },
   "outputs": [],
   "source": [
    "label_mapping = {\n",
    "    1: \"walking\",\n",
    "    2: \"walking upstairs\",\n",
    "    3: \"walking downstairs\",\n",
    "    4: \"sitting\",\n",
    "    5: \"standing\",\n",
    "    6: \"laying down\"\n",
    "}"
   ]
  },
  {
   "cell_type": "markdown",
   "metadata": {
    "_uuid": "3c878aa4cc63242a33b9d030efba7623bd8a5d2c"
   },
   "source": [
    "[These labels correspond to:](https://archive.ics.uci.edu/ml/machine-learning-databases/00240/UCI%20HAR%20Dataset.names)\n",
    "- 1 – walking\n",
    "- 2 – walking upstairs\n",
    "- 3 – walking downstairs\n",
    "- 4 – sitting\n",
    "- 5 – standing\n",
    "- 6 – laying down"
   ]
  },
  {
   "cell_type": "markdown",
   "metadata": {
    "_uuid": "f2037a9432194f9a3d2f390ca2ad49a1ac1a6192"
   },
   "source": [
    "Scale the sample using `StandardScaler` with default parameters."
   ]
  },
  {
   "cell_type": "code",
   "execution_count": 10,
   "metadata": {
    "_uuid": "70461dfacab8bd090d951e6114beaa40aa293919",
    "execution": {
     "iopub.execute_input": "2023-08-15T17:06:11.081387Z",
     "iopub.status.busy": "2023-08-15T17:06:11.080852Z",
     "iopub.status.idle": "2023-08-15T17:06:11.244884Z",
     "shell.execute_reply": "2023-08-15T17:06:11.243940Z",
     "shell.execute_reply.started": "2023-08-15T17:06:11.081336Z"
    }
   },
   "outputs": [],
   "source": [
    "scaler = StandardScaler()\n",
    "X_scaled = scaler.fit_transform(X)"
   ]
  },
  {
   "cell_type": "markdown",
   "metadata": {
    "_uuid": "b7249210501c3396bddbf57cea47ac01a0d85170"
   },
   "source": [
    "Reduce the number of dimensions using PCA, leaving as many components as necessary to explain at least 90% of the variance of the original (scaled) data. Use the scaled dataset and fix `random_state` (RANDOM_STATE constant)."
   ]
  },
  {
   "cell_type": "code",
   "execution_count": 11,
   "metadata": {
    "_uuid": "2fc8993e03857d93b59e5e1e5800f494b23239be",
    "execution": {
     "iopub.execute_input": "2023-08-15T17:06:13.132844Z",
     "iopub.status.busy": "2023-08-15T17:06:13.132531Z",
     "iopub.status.idle": "2023-08-15T17:06:14.782388Z",
     "shell.execute_reply": "2023-08-15T17:06:14.781153Z",
     "shell.execute_reply.started": "2023-08-15T17:06:13.132808Z"
    }
   },
   "outputs": [],
   "source": [
    "pca = PCA(random_state = RANDOM_STATE)\n",
    "X_pca = pca.fit_transform(X_scaled)"
   ]
  },
  {
   "cell_type": "code",
   "execution_count": 12,
   "metadata": {
    "execution": {
     "iopub.execute_input": "2023-08-15T14:49:05.007017Z",
     "iopub.status.busy": "2023-08-15T14:49:05.006610Z",
     "iopub.status.idle": "2023-08-15T14:49:05.016475Z",
     "shell.execute_reply": "2023-08-15T14:49:05.014474Z",
     "shell.execute_reply.started": "2023-08-15T14:49:05.006957Z"
    }
   },
   "outputs": [
    {
     "data": {
      "text/plain": [
       "(561, 561)"
      ]
     },
     "execution_count": 12,
     "metadata": {},
     "output_type": "execute_result"
    }
   ],
   "source": [
    "pca.components_.shape"
   ]
  },
  {
   "cell_type": "markdown",
   "metadata": {
    "_uuid": "f0664d287ec08bb891d3c12fc87977bf92c97ae3"
   },
   "source": [
    "**Question 1:** <br>\n",
    "\n",
    "What is the minimum number of principal components required to cover the 90% of the variance of the original (scaled) data?"
   ]
  },
  {
   "cell_type": "code",
   "execution_count": 13,
   "metadata": {
    "_uuid": "c67c5a22dec7dbc1bfa362d85ddad72334cb6ffb",
    "execution": {
     "iopub.execute_input": "2023-08-15T14:49:17.391156Z",
     "iopub.status.busy": "2023-08-15T14:49:17.390814Z",
     "iopub.status.idle": "2023-08-15T14:49:17.411057Z",
     "shell.execute_reply": "2023-08-15T14:49:17.409826Z",
     "shell.execute_reply.started": "2023-08-15T14:49:17.391101Z"
    }
   },
   "outputs": [
    {
     "name": "stdout",
     "output_type": "stream",
     "text": [
      "1 component: 50.74% of initial variance\n",
      "Total explained variance: 50.74\n",
      "\n",
      "2 component: 6.24% of initial variance\n",
      "Total explained variance: 56.98\n",
      "\n",
      "3 component: 2.69% of initial variance\n",
      "Total explained variance: 59.67\n",
      "\n",
      "4 component: 2.45% of initial variance\n",
      "Total explained variance: 62.12\n",
      "\n",
      "5 component: 1.89% of initial variance\n",
      "Total explained variance: 64.01\n",
      "\n",
      "6 component: 1.63% of initial variance\n",
      "Total explained variance: 65.64\n",
      "\n",
      "7 component: 1.41% of initial variance\n",
      "Total explained variance: 67.06\n",
      "\n",
      "8 component: 1.22% of initial variance\n",
      "Total explained variance: 68.27\n",
      "\n",
      "9 component: 0.99% of initial variance\n",
      "Total explained variance: 69.26\n",
      "\n",
      "10 component: 0.95% of initial variance\n",
      "Total explained variance: 70.21\n",
      "\n",
      "11 component: 0.86% of initial variance\n",
      "Total explained variance: 71.07\n",
      "\n",
      "12 component: 0.81% of initial variance\n",
      "Total explained variance: 71.88\n",
      "\n",
      "13 component: 0.77% of initial variance\n",
      "Total explained variance: 72.64\n",
      "\n",
      "14 component: 0.68% of initial variance\n",
      "Total explained variance: 73.32\n",
      "\n",
      "15 component: 0.63% of initial variance\n",
      "Total explained variance: 73.95\n",
      "\n",
      "16 component: 0.62% of initial variance\n",
      "Total explained variance: 74.57\n",
      "\n",
      "17 component: 0.6% of initial variance\n",
      "Total explained variance: 75.16\n",
      "\n",
      "18 component: 0.58% of initial variance\n",
      "Total explained variance: 75.74\n",
      "\n",
      "19 component: 0.56% of initial variance\n",
      "Total explained variance: 76.3\n",
      "\n",
      "20 component: 0.54% of initial variance\n",
      "Total explained variance: 76.84\n",
      "\n",
      "21 component: 0.52% of initial variance\n",
      "Total explained variance: 77.36\n",
      "\n",
      "22 component: 0.5% of initial variance\n",
      "Total explained variance: 77.86\n",
      "\n",
      "23 component: 0.47% of initial variance\n",
      "Total explained variance: 78.34\n",
      "\n",
      "24 component: 0.46% of initial variance\n",
      "Total explained variance: 78.8\n",
      "\n",
      "25 component: 0.45% of initial variance\n",
      "Total explained variance: 79.25\n",
      "\n",
      "26 component: 0.44% of initial variance\n",
      "Total explained variance: 79.69\n",
      "\n",
      "27 component: 0.42% of initial variance\n",
      "Total explained variance: 80.1\n",
      "\n",
      "28 component: 0.4% of initial variance\n",
      "Total explained variance: 80.5\n",
      "\n",
      "29 component: 0.39% of initial variance\n",
      "Total explained variance: 80.89\n",
      "\n",
      "30 component: 0.38% of initial variance\n",
      "Total explained variance: 81.28\n",
      "\n",
      "31 component: 0.37% of initial variance\n",
      "Total explained variance: 81.64\n",
      "\n",
      "32 component: 0.36% of initial variance\n",
      "Total explained variance: 82.01\n",
      "\n",
      "33 component: 0.35% of initial variance\n",
      "Total explained variance: 82.36\n",
      "\n",
      "34 component: 0.35% of initial variance\n",
      "Total explained variance: 82.7\n",
      "\n",
      "35 component: 0.34% of initial variance\n",
      "Total explained variance: 83.04\n",
      "\n",
      "36 component: 0.33% of initial variance\n",
      "Total explained variance: 83.37\n",
      "\n",
      "37 component: 0.32% of initial variance\n",
      "Total explained variance: 83.69\n",
      "\n",
      "38 component: 0.3% of initial variance\n",
      "Total explained variance: 83.99\n",
      "\n",
      "39 component: 0.29% of initial variance\n",
      "Total explained variance: 84.29\n",
      "\n",
      "40 component: 0.29% of initial variance\n",
      "Total explained variance: 84.58\n",
      "\n",
      "41 component: 0.28% of initial variance\n",
      "Total explained variance: 84.85\n",
      "\n",
      "42 component: 0.27% of initial variance\n",
      "Total explained variance: 85.12\n",
      "\n",
      "43 component: 0.26% of initial variance\n",
      "Total explained variance: 85.39\n",
      "\n",
      "44 component: 0.26% of initial variance\n",
      "Total explained variance: 85.64\n",
      "\n",
      "45 component: 0.26% of initial variance\n",
      "Total explained variance: 85.9\n",
      "\n",
      "46 component: 0.25% of initial variance\n",
      "Total explained variance: 86.15\n",
      "\n",
      "47 component: 0.25% of initial variance\n",
      "Total explained variance: 86.39\n",
      "\n",
      "48 component: 0.24% of initial variance\n",
      "Total explained variance: 86.63\n",
      "\n",
      "49 component: 0.24% of initial variance\n",
      "Total explained variance: 86.87\n",
      "\n",
      "50 component: 0.23% of initial variance\n",
      "Total explained variance: 87.1\n",
      "\n",
      "51 component: 0.23% of initial variance\n",
      "Total explained variance: 87.33\n",
      "\n",
      "52 component: 0.22% of initial variance\n",
      "Total explained variance: 87.55\n",
      "\n",
      "53 component: 0.21% of initial variance\n",
      "Total explained variance: 87.76\n",
      "\n",
      "54 component: 0.21% of initial variance\n",
      "Total explained variance: 87.97\n",
      "\n",
      "55 component: 0.2% of initial variance\n",
      "Total explained variance: 88.17\n",
      "\n",
      "56 component: 0.2% of initial variance\n",
      "Total explained variance: 88.37\n",
      "\n",
      "57 component: 0.2% of initial variance\n",
      "Total explained variance: 88.57\n",
      "\n",
      "58 component: 0.19% of initial variance\n",
      "Total explained variance: 88.77\n",
      "\n",
      "59 component: 0.19% of initial variance\n",
      "Total explained variance: 88.96\n",
      "\n",
      "60 component: 0.19% of initial variance\n",
      "Total explained variance: 89.15\n",
      "\n",
      "61 component: 0.19% of initial variance\n",
      "Total explained variance: 89.33\n",
      "\n",
      "62 component: 0.18% of initial variance\n",
      "Total explained variance: 89.52\n",
      "\n",
      "63 component: 0.18% of initial variance\n",
      "Total explained variance: 89.7\n",
      "\n",
      "64 component: 0.18% of initial variance\n",
      "Total explained variance: 89.87\n",
      "\n",
      "65 component: 0.17% of initial variance\n",
      "Total explained variance: 90.05\n",
      "\n"
     ]
    }
   ],
   "source": [
    "MIN_EXPLAINED_VARIANCE = 0.9\n",
    "i = 0\n",
    "total_explained_variance = 0\n",
    "\n",
    "while total_explained_variance < 0.9:\n",
    "    component = pca.components_[i]\n",
    "    print(\n",
    "        \"{} component: {}% of initial variance\".format(\n",
    "            i + 1, round(100 * pca.explained_variance_ratio_[i], 2)\n",
    "        )\n",
    "    )\n",
    "    total_explained_variance += pca.explained_variance_ratio_[i]\n",
    "    print(f'Total explained variance: {round(100 * total_explained_variance, 2)}\\n')\n",
    "    i += 1"
   ]
  },
  {
   "cell_type": "markdown",
   "metadata": {
    "_uuid": "a3d8270e6546cb8b38b7cd47909eff93d77716bc"
   },
   "source": [
    "**Answer options:**\n",
    "- 56 \n",
    "- **65**\n",
    "- 66\n",
    "- 193"
   ]
  },
  {
   "cell_type": "code",
   "execution_count": 14,
   "metadata": {
    "execution": {
     "iopub.execute_input": "2023-08-15T17:53:41.426519Z",
     "iopub.status.busy": "2023-08-15T17:53:41.426237Z",
     "iopub.status.idle": "2023-08-15T17:53:41.430425Z",
     "shell.execute_reply": "2023-08-15T17:53:41.429670Z",
     "shell.execute_reply.started": "2023-08-15T17:53:41.426479Z"
    }
   },
   "outputs": [],
   "source": [
    "MAX_COMPONENT = 65"
   ]
  },
  {
   "cell_type": "markdown",
   "metadata": {
    "_uuid": "baf5451408baf763d178b01a5d75e37105f4446e"
   },
   "source": [
    "**Question 2:**<br>\n",
    "What percentage of the variance is covered by the first principal component? Round to the nearest percent.\n",
    "\n",
    "**Answer options:**\n",
    "- 45\n",
    "- **51** \n",
    "- 56\n",
    "- 61"
   ]
  },
  {
   "cell_type": "markdown",
   "metadata": {
    "_uuid": "53787132590f0f8b8f9b44d47981f9de969b89f2"
   },
   "source": [
    "Visualize data in projection on the first two principal components."
   ]
  },
  {
   "cell_type": "code",
   "execution_count": 15,
   "metadata": {
    "execution": {
     "iopub.execute_input": "2023-08-15T14:50:23.671182Z",
     "iopub.status.busy": "2023-08-15T14:50:23.670736Z",
     "iopub.status.idle": "2023-08-15T14:50:23.680181Z",
     "shell.execute_reply": "2023-08-15T14:50:23.678551Z",
     "shell.execute_reply.started": "2023-08-15T14:50:23.671109Z"
    }
   },
   "outputs": [
    {
     "data": {
      "text/plain": [
       "array([[-16.38097982,   1.99508307],\n",
       "       [-15.58217328,   1.18259368],\n",
       "       [-15.42398918,   2.24316643],\n",
       "       ...,\n",
       "       [ 11.84685312,  -3.43356502],\n",
       "       [  8.20668637,  -4.38648876],\n",
       "       [  9.31117251,  -3.98616133]])"
      ]
     },
     "execution_count": 15,
     "metadata": {},
     "output_type": "execute_result"
    }
   ],
   "source": [
    "X_pca[:, :2]"
   ]
  },
  {
   "cell_type": "code",
   "execution_count": 16,
   "metadata": {
    "execution": {
     "iopub.execute_input": "2023-08-15T15:42:40.073588Z",
     "iopub.status.busy": "2023-08-15T15:42:40.073205Z",
     "iopub.status.idle": "2023-08-15T15:42:40.086980Z",
     "shell.execute_reply": "2023-08-15T15:42:40.085887Z",
     "shell.execute_reply.started": "2023-08-15T15:42:40.073527Z"
    }
   },
   "outputs": [],
   "source": [
    "labels = [label_mapping[num] for num in y]"
   ]
  },
  {
   "cell_type": "code",
   "execution_count": 17,
   "metadata": {
    "execution": {
     "iopub.execute_input": "2023-08-15T15:43:05.326457Z",
     "iopub.status.busy": "2023-08-15T15:43:05.325943Z",
     "iopub.status.idle": "2023-08-15T15:43:06.234475Z",
     "shell.execute_reply": "2023-08-15T15:43:06.233042Z",
     "shell.execute_reply.started": "2023-08-15T15:43:05.326378Z"
    }
   },
   "outputs": [
    {
     "data": {
      "image/png": "[encoded data removed]",
      "text/plain": [
       "<Figure size 864x648 with 1 Axes>"
      ]
     },
     "metadata": {},
     "output_type": "display_data"
    }
   ],
   "source": [
    "import seaborn as sns\n",
    "sns.scatterplot(X_pca[:, 0], X_pca[:, 1], hue=labels, palette='viridis',  linewidth=0)\n",
    "plt.legend();"
   ]
  },
  {
   "cell_type": "markdown",
   "metadata": {
    "_uuid": "e54a8eb905c5d9b6180083fab0ef8f74ca582c62"
   },
   "source": [
    "**Question 3:**<br>\n",
    "If everything worked out correctly, you will see a number of clusters, almost perfectly separated from each other. What types of activity are included in these clusters? <br>\n",
    "\n",
    "**Answer options:**\n",
    "- 1 cluster: all 6 activities\n",
    "- **2 clusters: (walking, walking upstairs, walking downstairs ) and (sitting, standing, laying)**\n",
    "- 3 clusters: (walking), (walking upstairs, walking downstairs) and (sitting, standing, laying)\n",
    "- 6 clusters"
   ]
  },
  {
   "cell_type": "markdown",
   "metadata": {
    "_uuid": "8880c32278abd73e16764a6b842717cd783b66cf"
   },
   "source": [
    "------------------------------"
   ]
  },
  {
   "cell_type": "markdown",
   "metadata": {
    "_uuid": "37b0cfd306d225c21ae1e2a8abb882870a24271b"
   },
   "source": [
    "Perform clustering with the `KMeans` method, training the model on data with reduced dimensionality (by PCA). In this case, we will give a clue to look for exactly 6 clusters, but in general case we will not know how many clusters we should be looking for.\n",
    "\n",
    "Options:\n",
    "\n",
    "- **n_clusters** = n_classes (number of unique labels of the target class)\n",
    "- **n_init** = 100\n",
    "- **random_state** = RANDOM_STATE (for reproducibility of the result)\n",
    "\n",
    "Other parameters should have default values."
   ]
  },
  {
   "cell_type": "code",
   "execution_count": 18,
   "metadata": {
    "execution": {
     "iopub.execute_input": "2023-08-15T15:29:37.042835Z",
     "iopub.status.busy": "2023-08-15T15:29:37.042396Z",
     "iopub.status.idle": "2023-08-15T15:29:37.049524Z",
     "shell.execute_reply": "2023-08-15T15:29:37.048737Z",
     "shell.execute_reply.started": "2023-08-15T15:29:37.042773Z"
    }
   },
   "outputs": [
    {
     "data": {
      "text/plain": [
       "(10299, 65)"
      ]
     },
     "execution_count": 18,
     "metadata": {},
     "output_type": "execute_result"
    }
   ],
   "source": [
    "X_pca[:, :MAX_COMPONENT].shape"
   ]
  },
  {
   "cell_type": "code",
   "execution_count": 19,
   "metadata": {
    "_uuid": "0d6d17a62f335bb062ea0e5134cb03ff60cb085b",
    "execution": {
     "iopub.execute_input": "2023-08-15T17:09:17.948678Z",
     "iopub.status.busy": "2023-08-15T17:09:17.948380Z",
     "iopub.status.idle": "2023-08-15T17:09:26.943335Z",
     "shell.execute_reply": "2023-08-15T17:09:26.942707Z",
     "shell.execute_reply.started": "2023-08-15T17:09:17.948632Z"
    }
   },
   "outputs": [
    {
     "data": {
      "text/plain": [
       "KMeans(algorithm='auto', copy_x=True, init='k-means++', max_iter=300,\n",
       "    n_clusters=6, n_init=100, n_jobs=None, precompute_distances='auto',\n",
       "    random_state=17, tol=0.0001, verbose=0)"
      ]
     },
     "execution_count": 19,
     "metadata": {},
     "output_type": "execute_result"
    }
   ],
   "source": [
    "k_means = KMeans(n_clusters=6, n_init=100, random_state = RANDOM_STATE)\n",
    "k_means.fit(X_pca[:, :MAX_COMPONENT])"
   ]
  },
  {
   "cell_type": "code",
   "execution_count": 20,
   "metadata": {
    "execution": {
     "iopub.execute_input": "2023-08-15T17:09:26.944829Z",
     "iopub.status.busy": "2023-08-15T17:09:26.944434Z",
     "iopub.status.idle": "2023-08-15T17:09:26.948074Z",
     "shell.execute_reply": "2023-08-15T17:09:26.947487Z",
     "shell.execute_reply.started": "2023-08-15T17:09:26.944789Z"
    }
   },
   "outputs": [],
   "source": [
    "cluster_labels = k_means.labels_"
   ]
  },
  {
   "cell_type": "markdown",
   "metadata": {
    "_uuid": "e34d43b9b3ebd34ad01c3a1d9d1a4dde85a4e832"
   },
   "source": [
    "Visualize data in projection on the first two principal components. Color the dots according to the clusters obtained."
   ]
  },
  {
   "cell_type": "code",
   "execution_count": 21,
   "metadata": {
    "_uuid": "c05aa57fd57870aaa25543be822a75801a80b9a2",
    "execution": {
     "iopub.execute_input": "2023-08-15T17:09:26.949422Z",
     "iopub.status.busy": "2023-08-15T17:09:26.949067Z",
     "iopub.status.idle": "2023-08-15T17:09:27.614940Z",
     "shell.execute_reply": "2023-08-15T17:09:27.613878Z",
     "shell.execute_reply.started": "2023-08-15T17:09:26.949384Z"
    }
   },
   "outputs": [
    {
     "data": {
      "image/png": "[encoded data removed]",
      "text/plain": [
       "<Figure size 864x648 with 1 Axes>"
      ]
     },
     "metadata": {},
     "output_type": "display_data"
    }
   ],
   "source": [
    "sns.scatterplot(X_pca[:, 0], X_pca[:, 1], hue=cluster_labels, palette='viridis',  linewidth=0);"
   ]
  },
  {
   "cell_type": "markdown",
   "metadata": {
    "_uuid": "0d84b356e4e6f91f05fdb9a526ccfdb099523882"
   },
   "source": [
    "Look at the correspondence between the cluster marks and the original class labels and what kinds of activities the `KMeans` algorithm is confused at."
   ]
  },
  {
   "cell_type": "code",
   "execution_count": 22,
   "metadata": {
    "_uuid": "617e35a6ce5f78fa73d315b5cdbcad8e29c8cf21",
    "execution": {
     "iopub.execute_input": "2023-08-15T17:09:27.616120Z",
     "iopub.status.busy": "2023-08-15T17:09:27.615921Z",
     "iopub.status.idle": "2023-08-15T17:09:27.679777Z",
     "shell.execute_reply": "2023-08-15T17:09:27.678801Z",
     "shell.execute_reply.started": "2023-08-15T17:09:27.616090Z"
    }
   },
   "outputs": [
    {
     "data": {
      "text/html": [
       "<div>\n",
       "<style scoped>\n",
       "    .dataframe tbody tr th:only-of-type {\n",
       "        vertical-align: middle;\n",
       "    }\n",
       "\n",
       "    .dataframe tbody tr th {\n",
       "        vertical-align: top;\n",
       "    }\n",
       "\n",
       "    .dataframe thead th {\n",
       "        text-align: right;\n",
       "    }\n",
       "</style>\n",
       "<table border=\"1\" class=\"dataframe\">\n",
       "  <thead>\n",
       "    <tr style=\"text-align: right;\">\n",
       "      <th></th>\n",
       "      <th>cluster1</th>\n",
       "      <th>cluster2</th>\n",
       "      <th>cluster3</th>\n",
       "      <th>cluster4</th>\n",
       "      <th>cluster5</th>\n",
       "      <th>cluster6</th>\n",
       "      <th>all</th>\n",
       "    </tr>\n",
       "  </thead>\n",
       "  <tbody>\n",
       "    <tr>\n",
       "      <th>walking</th>\n",
       "      <td>903</td>\n",
       "      <td>0</td>\n",
       "      <td>0</td>\n",
       "      <td>78</td>\n",
       "      <td>741</td>\n",
       "      <td>0</td>\n",
       "      <td>1722</td>\n",
       "    </tr>\n",
       "    <tr>\n",
       "      <th>going up the stairs</th>\n",
       "      <td>1241</td>\n",
       "      <td>0</td>\n",
       "      <td>0</td>\n",
       "      <td>5</td>\n",
       "      <td>296</td>\n",
       "      <td>2</td>\n",
       "      <td>1544</td>\n",
       "    </tr>\n",
       "    <tr>\n",
       "      <th>going down the stairs</th>\n",
       "      <td>320</td>\n",
       "      <td>0</td>\n",
       "      <td>0</td>\n",
       "      <td>196</td>\n",
       "      <td>890</td>\n",
       "      <td>0</td>\n",
       "      <td>1406</td>\n",
       "    </tr>\n",
       "    <tr>\n",
       "      <th>sitting</th>\n",
       "      <td>1</td>\n",
       "      <td>1235</td>\n",
       "      <td>91</td>\n",
       "      <td>0</td>\n",
       "      <td>0</td>\n",
       "      <td>450</td>\n",
       "      <td>1777</td>\n",
       "    </tr>\n",
       "    <tr>\n",
       "      <th>standing</th>\n",
       "      <td>0</td>\n",
       "      <td>1344</td>\n",
       "      <td>0</td>\n",
       "      <td>0</td>\n",
       "      <td>0</td>\n",
       "      <td>562</td>\n",
       "      <td>1906</td>\n",
       "    </tr>\n",
       "    <tr>\n",
       "      <th>laying</th>\n",
       "      <td>5</td>\n",
       "      <td>52</td>\n",
       "      <td>1558</td>\n",
       "      <td>0</td>\n",
       "      <td>0</td>\n",
       "      <td>329</td>\n",
       "      <td>1944</td>\n",
       "    </tr>\n",
       "    <tr>\n",
       "      <th>all</th>\n",
       "      <td>2470</td>\n",
       "      <td>2631</td>\n",
       "      <td>1649</td>\n",
       "      <td>279</td>\n",
       "      <td>1927</td>\n",
       "      <td>1343</td>\n",
       "      <td>10299</td>\n",
       "    </tr>\n",
       "  </tbody>\n",
       "</table>\n",
       "</div>"
      ],
      "text/plain": [
       "                       cluster1  cluster2  ...    cluster6    all\n",
       "walking                     903         0  ...           0   1722\n",
       "going up the stairs        1241         0  ...           2   1544\n",
       "going down the stairs       320         0  ...           0   1406\n",
       "sitting                       1      1235  ...         450   1777\n",
       "standing                      0      1344  ...         562   1906\n",
       "laying                        5        52  ...         329   1944\n",
       "all                        2470      2631  ...        1343  10299\n",
       "\n",
       "[7 rows x 7 columns]"
      ]
     },
     "execution_count": 22,
     "metadata": {},
     "output_type": "execute_result"
    }
   ],
   "source": [
    "tab = pd.crosstab(y, cluster_labels, margins=True)\n",
    "tab.index = ['walking', 'going up the stairs','going down the stairs', 'sitting', 'standing', 'laying', 'all']\n",
    "tab.columns = ['cluster' + str(i + 1) for i in range(6)] + ['all']\n",
    "tab"
   ]
  },
  {
   "cell_type": "code",
   "execution_count": 23,
   "metadata": {
    "execution": {
     "iopub.execute_input": "2023-08-15T17:07:21.641744Z",
     "iopub.status.busy": "2023-08-15T17:07:21.641428Z",
     "iopub.status.idle": "2023-08-15T17:07:21.646704Z",
     "shell.execute_reply": "2023-08-15T17:07:21.645334Z",
     "shell.execute_reply.started": "2023-08-15T17:07:21.641688Z"
    }
   },
   "outputs": [],
   "source": [
    "def max_perc_obj(row):\n",
    "    perc_obj = [(cluster / row['all']) for cluster in row[:-1]]\n",
    "    return round(max(perc_obj), 2)"
   ]
  },
  {
   "cell_type": "code",
   "execution_count": 24,
   "metadata": {
    "execution": {
     "iopub.execute_input": "2023-08-15T17:09:31.405508Z",
     "iopub.status.busy": "2023-08-15T17:09:31.405156Z",
     "iopub.status.idle": "2023-08-15T17:09:31.434137Z",
     "shell.execute_reply": "2023-08-15T17:09:31.432630Z",
     "shell.execute_reply.started": "2023-08-15T17:09:31.405434Z"
    }
   },
   "outputs": [
    {
     "data": {
      "text/html": [
       "<div>\n",
       "<style scoped>\n",
       "    .dataframe tbody tr th:only-of-type {\n",
       "        vertical-align: middle;\n",
       "    }\n",
       "\n",
       "    .dataframe tbody tr th {\n",
       "        vertical-align: top;\n",
       "    }\n",
       "\n",
       "    .dataframe thead th {\n",
       "        text-align: right;\n",
       "    }\n",
       "</style>\n",
       "<table border=\"1\" class=\"dataframe\">\n",
       "  <thead>\n",
       "    <tr style=\"text-align: right;\">\n",
       "      <th></th>\n",
       "      <th>cluster1</th>\n",
       "      <th>cluster2</th>\n",
       "      <th>cluster3</th>\n",
       "      <th>cluster4</th>\n",
       "      <th>cluster5</th>\n",
       "      <th>cluster6</th>\n",
       "      <th>all</th>\n",
       "      <th>Max perc in cluster</th>\n",
       "    </tr>\n",
       "  </thead>\n",
       "  <tbody>\n",
       "    <tr>\n",
       "      <th>walking</th>\n",
       "      <td>903</td>\n",
       "      <td>0</td>\n",
       "      <td>0</td>\n",
       "      <td>78</td>\n",
       "      <td>741</td>\n",
       "      <td>0</td>\n",
       "      <td>1722</td>\n",
       "      <td>0.52</td>\n",
       "    </tr>\n",
       "    <tr>\n",
       "      <th>going up the stairs</th>\n",
       "      <td>1241</td>\n",
       "      <td>0</td>\n",
       "      <td>0</td>\n",
       "      <td>5</td>\n",
       "      <td>296</td>\n",
       "      <td>2</td>\n",
       "      <td>1544</td>\n",
       "      <td>0.80</td>\n",
       "    </tr>\n",
       "    <tr>\n",
       "      <th>going down the stairs</th>\n",
       "      <td>320</td>\n",
       "      <td>0</td>\n",
       "      <td>0</td>\n",
       "      <td>196</td>\n",
       "      <td>890</td>\n",
       "      <td>0</td>\n",
       "      <td>1406</td>\n",
       "      <td>0.63</td>\n",
       "    </tr>\n",
       "    <tr>\n",
       "      <th>sitting</th>\n",
       "      <td>1</td>\n",
       "      <td>1235</td>\n",
       "      <td>91</td>\n",
       "      <td>0</td>\n",
       "      <td>0</td>\n",
       "      <td>450</td>\n",
       "      <td>1777</td>\n",
       "      <td>0.69</td>\n",
       "    </tr>\n",
       "    <tr>\n",
       "      <th>standing</th>\n",
       "      <td>0</td>\n",
       "      <td>1344</td>\n",
       "      <td>0</td>\n",
       "      <td>0</td>\n",
       "      <td>0</td>\n",
       "      <td>562</td>\n",
       "      <td>1906</td>\n",
       "      <td>0.71</td>\n",
       "    </tr>\n",
       "    <tr>\n",
       "      <th>laying</th>\n",
       "      <td>5</td>\n",
       "      <td>52</td>\n",
       "      <td>1558</td>\n",
       "      <td>0</td>\n",
       "      <td>0</td>\n",
       "      <td>329</td>\n",
       "      <td>1944</td>\n",
       "      <td>0.80</td>\n",
       "    </tr>\n",
       "    <tr>\n",
       "      <th>all</th>\n",
       "      <td>2470</td>\n",
       "      <td>2631</td>\n",
       "      <td>1649</td>\n",
       "      <td>279</td>\n",
       "      <td>1927</td>\n",
       "      <td>1343</td>\n",
       "      <td>10299</td>\n",
       "      <td>0.26</td>\n",
       "    </tr>\n",
       "  </tbody>\n",
       "</table>\n",
       "</div>"
      ],
      "text/plain": [
       "                       cluster1         ...           Max perc in cluster\n",
       "walking                     903         ...                          0.52\n",
       "going up the stairs        1241         ...                          0.80\n",
       "going down the stairs       320         ...                          0.63\n",
       "sitting                       1         ...                          0.69\n",
       "standing                      0         ...                          0.71\n",
       "laying                        5         ...                          0.80\n",
       "all                        2470         ...                          0.26\n",
       "\n",
       "[7 rows x 8 columns]"
      ]
     },
     "execution_count": 24,
     "metadata": {},
     "output_type": "execute_result"
    }
   ],
   "source": [
    "tab['Max perc in cluster'] = tab.apply(max_perc_obj, axis = 1)\n",
    "tab"
   ]
  },
  {
   "cell_type": "markdown",
   "metadata": {
    "_uuid": "047f89c9981e696776ee98f87d0934ee1b08ed98"
   },
   "source": [
    "We see that for each class (i.e., each activity) there are several clusters. Let's look at the maximum percentage of objects in a class that are assigned to a single cluster. This will be a simple metric that characterizes how easily the class is separated from others when clustering.\n",
    "\n",
    "Example: if for class \"walking downstairs\" (with 1406 instances belonging to it), the distribution of clusters is:\n",
    " - cluster 1 - 900\n",
    " - cluster 3 - 500\n",
    " - cluster 6 - 6,\n",
    " \n",
    "then such a share will be 900/1406 $ \\approx $ 0.64.\n",
    " \n",
    "\n",
    "**Question 4:** <br>\n",
    "Which activity is separated from the rest better than others based on the simple metric described above? <br>\n",
    "\n",
    "**Answer:**\n",
    "- walking\n",
    "- standing\n",
    "- walking downstairs\n",
    "- all three options are incorrect"
   ]
  },
  {
   "cell_type": "markdown",
   "metadata": {
    "_uuid": "c51f76505725d754a6d54f7bd01dedff7d5dc288"
   },
   "source": [
    "It can be seen that kMeans does not distinguish activities very well. Use the elbow method to select the optimal number of clusters. Parameters of the algorithm and the data we use are the same as before, we change only `n_clusters`."
   ]
  },
  {
   "cell_type": "code",
   "execution_count": 25,
   "metadata": {
    "_uuid": "90c60a1f8bce02bfedd8233190b7ff81fb134d35",
    "execution": {
     "iopub.execute_input": "2023-08-15T17:11:04.033029Z",
     "iopub.status.busy": "2023-08-15T17:11:04.032729Z",
     "iopub.status.idle": "2023-08-15T17:11:34.483532Z",
     "shell.execute_reply": "2023-08-15T17:11:34.482938Z",
     "shell.execute_reply.started": "2023-08-15T17:11:04.032973Z"
    }
   },
   "outputs": [
    {
     "data": {
      "application/vnd.jupyter.widget-view+json": {
       "model_id": "cc70068f9cf043268021a7a8bf53d598",
       "version_major": 2,
       "version_minor": 0
      },
      "text/plain": [
       "HBox(children=(IntProgress(value=0, max=6), HTML(value='')))"
      ]
     },
     "metadata": {},
     "output_type": "display_data"
    },
    {
     "name": "stdout",
     "output_type": "stream",
     "text": [
      "\n"
     ]
    }
   ],
   "source": [
    "inertia = []\n",
    "for k in tqdm_notebook(range(1, n_classes + 1)):\n",
    "    k_means = KMeans(n_clusters=k, n_init=100, random_state = RANDOM_STATE).fit(X_pca[:, :MAX_COMPONENT])\n",
    "    inertia.append(np.sqrt(k_means.inertia_))"
   ]
  },
  {
   "cell_type": "code",
   "execution_count": 26,
   "metadata": {
    "execution": {
     "iopub.execute_input": "2023-08-15T17:12:34.504467Z",
     "iopub.status.busy": "2023-08-15T17:12:34.504033Z",
     "iopub.status.idle": "2023-08-15T17:12:34.958533Z",
     "shell.execute_reply": "2023-08-15T17:12:34.957861Z",
     "shell.execute_reply.started": "2023-08-15T17:12:34.504426Z"
    }
   },
   "outputs": [
    {
     "data": {
      "image/png": "[encoded data removed]",
      "text/plain": [
       "<Figure size 864x648 with 1 Axes>"
      ]
     },
     "metadata": {},
     "output_type": "display_data"
    }
   ],
   "source": [
    "plt.plot(range(1, n_classes + 1), inertia)\n",
    "plt.xlabel(\"$k$\")\n",
    "plt.ylabel(\"$J(C_k)$\");"
   ]
  },
  {
   "cell_type": "markdown",
   "metadata": {
    "_uuid": "5f9d80ac0bea5173134d880a5c1faf233456cd12"
   },
   "source": [
    "**Question 5:** <br>\n",
    "How many clusters can we choose according to the elbow method? <br>\n",
    "\n",
    "**Answer options:**\n",
    "- 1\n",
    "- **2**\n",
    "- 3\n",
    "- 4"
   ]
  },
  {
   "cell_type": "markdown",
   "metadata": {
    "_uuid": "f4b2c7c0bf71844e2aa1981b20bee09d9064255d"
   },
   "source": [
    "------------------------"
   ]
  },
  {
   "cell_type": "markdown",
   "metadata": {
    "_uuid": "234da989840379595bc0e65f6c1f81b78eddf19f"
   },
   "source": [
    "Let's try another clustering algorithm, described in the article – agglomerative clustering."
   ]
  },
  {
   "cell_type": "code",
   "execution_count": 27,
   "metadata": {
    "_uuid": "1b6a2ea741788687a5f650ae5489385ffa8246cf",
    "execution": {
     "iopub.execute_input": "2023-08-15T17:15:48.913642Z",
     "iopub.status.busy": "2023-08-15T17:15:48.912999Z",
     "iopub.status.idle": "2023-08-15T17:16:12.146499Z",
     "shell.execute_reply": "2023-08-15T17:16:12.145438Z",
     "shell.execute_reply.started": "2023-08-15T17:15:48.913552Z"
    }
   },
   "outputs": [],
   "source": [
    "ag = AgglomerativeClustering(n_clusters=n_classes, \n",
    "                              linkage='ward').fit(X_pca)"
   ]
  },
  {
   "cell_type": "code",
   "execution_count": 28,
   "metadata": {
    "execution": {
     "iopub.execute_input": "2023-08-15T17:17:57.896404Z",
     "iopub.status.busy": "2023-08-15T17:17:57.895724Z",
     "iopub.status.idle": "2023-08-15T17:17:57.900291Z",
     "shell.execute_reply": "2023-08-15T17:17:57.899671Z",
     "shell.execute_reply.started": "2023-08-15T17:17:57.895982Z"
    }
   },
   "outputs": [],
   "source": [
    "ag_cluster_labels = ag.labels_"
   ]
  },
  {
   "cell_type": "markdown",
   "metadata": {
    "_uuid": "e7865fcf352c96efef317c24b424233acd0c5dd3"
   },
   "source": [
    "Calculate the Adjusted Rand Index (`sklearn.metrics`) for the resulting clustering and for ` KMeans` with the parameters from the 4th question."
   ]
  },
  {
   "cell_type": "code",
   "execution_count": 29,
   "metadata": {
    "_uuid": "6d934179759ebf8159a6879c6e906a6a4d44544e",
    "execution": {
     "iopub.execute_input": "2023-08-15T17:18:31.549699Z",
     "iopub.status.busy": "2023-08-15T17:18:31.548986Z",
     "iopub.status.idle": "2023-08-15T17:18:31.562470Z",
     "shell.execute_reply": "2023-08-15T17:18:31.561479Z",
     "shell.execute_reply.started": "2023-08-15T17:18:31.549220Z"
    }
   },
   "outputs": [
    {
     "name": "stdout",
     "output_type": "stream",
     "text": [
      "Adjusted Rand Index (ARI)\n",
      "KMeans: 0.42\n",
      "Agglomerative clustering: 0.46\n"
     ]
    }
   ],
   "source": [
    "from sklearn.metrics.cluster import adjusted_rand_score\n",
    "print('Adjusted Rand Index (ARI)')\n",
    "print(f'KMeans: {round(adjusted_rand_score(y, cluster_labels + 1), 2)}')\n",
    "print(f'Agglomerative clustering: {round(adjusted_rand_score(y, ag_cluster_labels + 1), 2)}')"
   ]
  },
  {
   "cell_type": "code",
   "execution_count": 30,
   "metadata": {
    "execution": {
     "iopub.execute_input": "2023-08-15T17:22:11.565359Z",
     "iopub.status.busy": "2023-08-15T17:22:11.564806Z",
     "iopub.status.idle": "2023-08-15T17:22:11.573647Z",
     "shell.execute_reply": "2023-08-15T17:22:11.572745Z",
     "shell.execute_reply.started": "2023-08-15T17:22:11.565316Z"
    }
   },
   "outputs": [
    {
     "name": "stdout",
     "output_type": "stream",
     "text": [
      "Random clustering: -0.0\n"
     ]
    }
   ],
   "source": [
    "random_cluster_labels = np.random.randint(1, n_classes + 1, size=y.shape[0])\n",
    "print(f'Random clustering: {round(adjusted_rand_score(y, random_cluster_labels), 2)}')"
   ]
  },
  {
   "cell_type": "markdown",
   "metadata": {
    "_uuid": "ccee7b5d2d1155ebe672cec4282bb06af01f87a4"
   },
   "source": [
    "**Question 6:** <br>\n",
    "Select all the correct statements. <br>\n",
    "\n",
    "**Answer options:**\n",
    "- **According to ARI, KMeans handled clustering worse than Agglomerative Clustering** \n",
    "- **For ARI, it does not matter which tags are assigned to the cluster, only the partitioning of instances into clusters matters**\n",
    "- **In case of random partitioning into clusters, ARI will be close to zero** "
   ]
  },
  {
   "cell_type": "markdown",
   "metadata": {
    "_uuid": "1367c265153403060e4e0bd69fe578cfafd03678"
   },
   "source": [
    "-------------------------------"
   ]
  },
  {
   "cell_type": "markdown",
   "metadata": {
    "_uuid": "eadfcc38dded52cc91f75a422a6eff8f1a5993c7"
   },
   "source": [
    "You can notice that the task is not very well solved when we try to detect several clusters (> 2). Now, let's solve the classification problem, given that the data is labeled.\n",
    "\n",
    "For classification, use the support vector machine – class `sklearn.svm.LinearSVC`. In this course, we did study this algorithm separately, but it is well-known and you can read about it, for example [here](http://cs231n.github.io/linear-classify/#svmvssoftmax).\n",
    "\n",
    "Choose the `C` hyperparameter for` LinearSVC` using `GridSearchCV`.\n",
    "\n",
    "- Train the new `StandardScaler` on the training set (with all original features), apply scaling to the test set\n",
    "- In `GridSearchCV`, specify `cv` = 3."
   ]
  },
  {
   "cell_type": "code",
   "execution_count": 31,
   "metadata": {
    "_uuid": "61151d2f16a8beb49e7635e95ea55129f6e984ac",
    "execution": {
     "iopub.execute_input": "2023-08-15T17:28:08.259421Z",
     "iopub.status.busy": "2023-08-15T17:28:08.259159Z",
     "iopub.status.idle": "2023-08-15T17:28:08.360583Z",
     "shell.execute_reply": "2023-08-15T17:28:08.358874Z",
     "shell.execute_reply.started": "2023-08-15T17:28:08.259388Z"
    }
   },
   "outputs": [],
   "source": [
    "scaler = StandardScaler()\n",
    "X_train_scaled = scaler.fit_transform(X_train)\n",
    "X_test_scaled = scaler.transform(X_test)"
   ]
  },
  {
   "cell_type": "code",
   "execution_count": 32,
   "metadata": {
    "_uuid": "7b0c661771542832de4f923b5206f6c8df1aa508",
    "execution": {
     "iopub.execute_input": "2023-08-15T17:28:12.111469Z",
     "iopub.status.busy": "2023-08-15T17:28:12.110899Z",
     "iopub.status.idle": "2023-08-15T17:28:12.117058Z",
     "shell.execute_reply": "2023-08-15T17:28:12.115066Z",
     "shell.execute_reply.started": "2023-08-15T17:28:12.111147Z"
    }
   },
   "outputs": [],
   "source": [
    "svc = LinearSVC(random_state=RANDOM_STATE)\n",
    "svc_params = {'C': [0.001, 0.01, 0.1, 1, 10]}"
   ]
  },
  {
   "cell_type": "code",
   "execution_count": 33,
   "metadata": {
    "_uuid": "3f0573b69142f89a7a4f4852c4a1366b7f85270b",
    "execution": {
     "iopub.execute_input": "2023-08-15T17:45:25.530431Z",
     "iopub.status.busy": "2023-08-15T17:45:25.530162Z",
     "iopub.status.idle": "2023-08-15T17:46:59.786117Z",
     "shell.execute_reply": "2023-08-15T17:46:59.784992Z",
     "shell.execute_reply.started": "2023-08-15T17:45:25.530388Z"
    }
   },
   "outputs": [
    {
     "name": "stderr",
     "output_type": "stream",
     "text": [
      "/opt/conda/lib/python3.6/site-packages/sklearn/svm/base.py:931: ConvergenceWarning: Liblinear failed to converge, increase the number of iterations.\n",
      "  \"the number of iterations.\", ConvergenceWarning)\n",
      "/opt/conda/lib/python3.6/site-packages/sklearn/svm/base.py:931: ConvergenceWarning: Liblinear failed to converge, increase the number of iterations.\n",
      "  \"the number of iterations.\", ConvergenceWarning)\n",
      "/opt/conda/lib/python3.6/site-packages/sklearn/svm/base.py:931: ConvergenceWarning: Liblinear failed to converge, increase the number of iterations.\n",
      "  \"the number of iterations.\", ConvergenceWarning)\n",
      "/opt/conda/lib/python3.6/site-packages/sklearn/svm/base.py:931: ConvergenceWarning: Liblinear failed to converge, increase the number of iterations.\n",
      "  \"the number of iterations.\", ConvergenceWarning)\n",
      "/opt/conda/lib/python3.6/site-packages/sklearn/svm/base.py:931: ConvergenceWarning: Liblinear failed to converge, increase the number of iterations.\n",
      "  \"the number of iterations.\", ConvergenceWarning)\n",
      "/opt/conda/lib/python3.6/site-packages/sklearn/svm/base.py:931: ConvergenceWarning: Liblinear failed to converge, increase the number of iterations.\n",
      "  \"the number of iterations.\", ConvergenceWarning)\n",
      "/opt/conda/lib/python3.6/site-packages/sklearn/svm/base.py:931: ConvergenceWarning: Liblinear failed to converge, increase the number of iterations.\n",
      "  \"the number of iterations.\", ConvergenceWarning)\n",
      "/opt/conda/lib/python3.6/site-packages/sklearn/svm/base.py:931: ConvergenceWarning: Liblinear failed to converge, increase the number of iterations.\n",
      "  \"the number of iterations.\", ConvergenceWarning)\n",
      "/opt/conda/lib/python3.6/site-packages/sklearn/svm/base.py:931: ConvergenceWarning: Liblinear failed to converge, increase the number of iterations.\n",
      "  \"the number of iterations.\", ConvergenceWarning)\n"
     ]
    },
    {
     "name": "stdout",
     "output_type": "stream",
     "text": [
      "CPU times: user 2min, sys: 4.03 s, total: 2min 4s\n",
      "Wall time: 1min 59s\n"
     ]
    },
    {
     "name": "stderr",
     "output_type": "stream",
     "text": [
      "/opt/conda/lib/python3.6/site-packages/sklearn/svm/base.py:931: ConvergenceWarning: Liblinear failed to converge, increase the number of iterations.\n",
      "  \"the number of iterations.\", ConvergenceWarning)\n"
     ]
    }
   ],
   "source": [
    "%%time\n",
    "clf = GridSearchCV(svc, svc_params, cv=3)\n",
    "clf.fit(X_train_scaled, y_train)\n",
    "best_svc = clf"
   ]
  },
  {
   "cell_type": "code",
   "execution_count": 34,
   "metadata": {
    "_uuid": "4cff688492768e0f226b0aff08d4eb07450ed4ce",
    "execution": {
     "iopub.execute_input": "2023-08-15T17:46:59.796818Z",
     "iopub.status.busy": "2023-08-15T17:46:59.796457Z",
     "iopub.status.idle": "2023-08-15T17:46:59.811109Z",
     "shell.execute_reply": "2023-08-15T17:46:59.810396Z",
     "shell.execute_reply.started": "2023-08-15T17:46:59.796751Z"
    }
   },
   "outputs": [
    {
     "data": {
      "text/plain": [
       "({'C': 0.1}, 0.9382480957562568)"
      ]
     },
     "execution_count": 34,
     "metadata": {},
     "output_type": "execute_result"
    }
   ],
   "source": [
    "clf.best_params_, clf.best_score_"
   ]
  },
  {
   "cell_type": "markdown",
   "metadata": {
    "_uuid": "b6214f9ec00411039cde3237ed7891053d9d8c5d"
   },
   "source": [
    "**Question 7**<br>\n",
    "Which value of the hyperparameter `C` was chosen the best on the basis of cross-validation? <br>\n",
    "\n",
    "**Answer options:**\n",
    "- 0.001\n",
    "- 0.01\n",
    "- **0.1**\n",
    "- 1\n",
    "- 10"
   ]
  },
  {
   "cell_type": "code",
   "execution_count": 35,
   "metadata": {
    "_uuid": "02e74bf62e37fbad5df8a685d6b06b2c9a48daaf",
    "execution": {
     "iopub.execute_input": "2023-08-15T17:47:43.670947Z",
     "iopub.status.busy": "2023-08-15T17:47:43.670683Z",
     "iopub.status.idle": "2023-08-15T17:47:43.681164Z",
     "shell.execute_reply": "2023-08-15T17:47:43.680045Z",
     "shell.execute_reply.started": "2023-08-15T17:47:43.670908Z"
    }
   },
   "outputs": [],
   "source": [
    "y_predicted = best_svc.predict(X_test_scaled)"
   ]
  },
  {
   "cell_type": "code",
   "execution_count": 36,
   "metadata": {
    "_uuid": "3e9804082d8a9eb666149074a8d1983ccb19ae2d",
    "execution": {
     "iopub.execute_input": "2023-08-15T17:47:45.662493Z",
     "iopub.status.busy": "2023-08-15T17:47:45.662215Z",
     "iopub.status.idle": "2023-08-15T17:47:45.728322Z",
     "shell.execute_reply": "2023-08-15T17:47:45.727533Z",
     "shell.execute_reply.started": "2023-08-15T17:47:45.662455Z"
    }
   },
   "outputs": [
    {
     "data": {
      "text/html": [
       "<div>\n",
       "<style scoped>\n",
       "    .dataframe tbody tr th:only-of-type {\n",
       "        vertical-align: middle;\n",
       "    }\n",
       "\n",
       "    .dataframe tbody tr th {\n",
       "        vertical-align: top;\n",
       "    }\n",
       "\n",
       "    .dataframe thead th {\n",
       "        text-align: right;\n",
       "    }\n",
       "</style>\n",
       "<table border=\"1\" class=\"dataframe\">\n",
       "  <thead>\n",
       "    <tr style=\"text-align: right;\">\n",
       "      <th></th>\n",
       "      <th>walking</th>\n",
       "      <th>climbing up the stairs</th>\n",
       "      <th>going down the stairs</th>\n",
       "      <th>sitting</th>\n",
       "      <th>standing</th>\n",
       "      <th>laying</th>\n",
       "      <th>all</th>\n",
       "    </tr>\n",
       "  </thead>\n",
       "  <tbody>\n",
       "    <tr>\n",
       "      <th>walking</th>\n",
       "      <td>494</td>\n",
       "      <td>2</td>\n",
       "      <td>0</td>\n",
       "      <td>0</td>\n",
       "      <td>0</td>\n",
       "      <td>0</td>\n",
       "      <td>496</td>\n",
       "    </tr>\n",
       "    <tr>\n",
       "      <th>climbing up the stairs</th>\n",
       "      <td>12</td>\n",
       "      <td>459</td>\n",
       "      <td>0</td>\n",
       "      <td>0</td>\n",
       "      <td>0</td>\n",
       "      <td>0</td>\n",
       "      <td>471</td>\n",
       "    </tr>\n",
       "    <tr>\n",
       "      <th>going down the stairs</th>\n",
       "      <td>2</td>\n",
       "      <td>4</td>\n",
       "      <td>413</td>\n",
       "      <td>1</td>\n",
       "      <td>0</td>\n",
       "      <td>0</td>\n",
       "      <td>420</td>\n",
       "    </tr>\n",
       "    <tr>\n",
       "      <th>sitting</th>\n",
       "      <td>0</td>\n",
       "      <td>4</td>\n",
       "      <td>0</td>\n",
       "      <td>426</td>\n",
       "      <td>61</td>\n",
       "      <td>0</td>\n",
       "      <td>491</td>\n",
       "    </tr>\n",
       "    <tr>\n",
       "      <th>standing</th>\n",
       "      <td>0</td>\n",
       "      <td>0</td>\n",
       "      <td>0</td>\n",
       "      <td>15</td>\n",
       "      <td>517</td>\n",
       "      <td>0</td>\n",
       "      <td>532</td>\n",
       "    </tr>\n",
       "    <tr>\n",
       "      <th>laying</th>\n",
       "      <td>0</td>\n",
       "      <td>0</td>\n",
       "      <td>0</td>\n",
       "      <td>0</td>\n",
       "      <td>11</td>\n",
       "      <td>526</td>\n",
       "      <td>537</td>\n",
       "    </tr>\n",
       "    <tr>\n",
       "      <th>all</th>\n",
       "      <td>508</td>\n",
       "      <td>469</td>\n",
       "      <td>413</td>\n",
       "      <td>442</td>\n",
       "      <td>589</td>\n",
       "      <td>526</td>\n",
       "      <td>2947</td>\n",
       "    </tr>\n",
       "  </tbody>\n",
       "</table>\n",
       "</div>"
      ],
      "text/plain": [
       "                        walking  climbing up the stairs  ...   laying   all\n",
       "walking                     494                       2  ...        0   496\n",
       "climbing up the stairs       12                     459  ...        0   471\n",
       "going down the stairs         2                       4  ...        0   420\n",
       "sitting                       0                       4  ...        0   491\n",
       "standing                      0                       0  ...        0   532\n",
       "laying                        0                       0  ...      526   537\n",
       "all                         508                     469  ...      526  2947\n",
       "\n",
       "[7 rows x 7 columns]"
      ]
     },
     "execution_count": 36,
     "metadata": {},
     "output_type": "execute_result"
    }
   ],
   "source": [
    "tab = pd.crosstab(y_test, y_predicted, margins=True)\n",
    "tab.index = ['walking', 'climbing up the stairs',\n",
    "              'going down the stairs', 'sitting', 'standing', 'laying', 'all']\n",
    "tab.columns = ['walking', 'climbing up the stairs',\n",
    "             'going down the stairs', 'sitting', 'standing', 'laying', 'all']\n",
    "tab"
   ]
  },
  {
   "cell_type": "code",
   "execution_count": 37,
   "metadata": {
    "execution": {
     "iopub.execute_input": "2023-08-15T17:47:48.314458Z",
     "iopub.status.busy": "2023-08-15T17:47:48.313920Z",
     "iopub.status.idle": "2023-08-15T17:47:48.323483Z",
     "shell.execute_reply": "2023-08-15T17:47:48.322099Z",
     "shell.execute_reply.started": "2023-08-15T17:47:48.314417Z"
    }
   },
   "outputs": [
    {
     "name": "stdout",
     "output_type": "stream",
     "text": [
      "                    precision    recall  f1-score   support\n",
      "\n",
      "           walking       0.97      1.00      0.98       496\n",
      "  walking upstairs       0.98      0.97      0.98       471\n",
      "walking downstairs       1.00      0.98      0.99       420\n",
      "           sitting       0.96      0.87      0.91       491\n",
      "          standing       0.88      0.97      0.92       532\n",
      "       laying down       1.00      0.98      0.99       537\n",
      "\n",
      "         micro avg       0.96      0.96      0.96      2947\n",
      "         macro avg       0.97      0.96      0.96      2947\n",
      "      weighted avg       0.96      0.96      0.96      2947\n",
      "\n"
     ]
    }
   ],
   "source": [
    "from sklearn.metrics import classification_report\n",
    "print(classification_report(y_test, y_predicted, target_names = label_mapping.values()))"
   ]
  },
  {
   "cell_type": "markdown",
   "metadata": {
    "_uuid": "f1bae145f1034a9c42679e73240cd0860bc207c6"
   },
   "source": [
    "**Question 8:** <br>\n",
    "Which activity type is worst detected by SVM in terms of precision? Recall?<br>\n",
    "\n",
    "**Answer options:**\n",
    "- precision – going up the stairs, recall – laying\n",
    "- precision – laying, recall – sitting\n",
    "- precision – walking, recall – walking\n",
    "- **precision – standing, recall – sitting**"
   ]
  },
  {
   "cell_type": "markdown",
   "metadata": {
    "_uuid": "472b5dadcd567b019cc6cd729a3917459207df14"
   },
   "source": [
    "Finally, do the same thing as in Question 7, but add PCA.\n",
    "\n",
    "- Use `X_train_scaled` and` X_test_scaled`\n",
    "- Train the same PCA as before, on the scaled training set, apply scaling to the test set\n",
    "- Choose the hyperparameter `C` via cross-validation on the training set with PCA-transformation. You will notice how much faster it works now.\n",
    "\n",
    "**Question 9:** <br>\n",
    "What is the difference between the best quality (accuracy) for cross-validation in the case of all 561 initial characteristics and in the second case, when the principal component method was applied? Round to the nearest percent. <br>\n",
    "\n",
    "**Answer options:**\n",
    "- quality is the same\n",
    "- 2%\n",
    "- 4%\n",
    "- 10%\n",
    "- 20%"
   ]
  },
  {
   "cell_type": "code",
   "execution_count": 38,
   "metadata": {
    "execution": {
     "iopub.execute_input": "2023-08-15T17:48:06.474537Z",
     "iopub.status.busy": "2023-08-15T17:48:06.473843Z",
     "iopub.status.idle": "2023-08-15T17:48:07.595045Z",
     "shell.execute_reply": "2023-08-15T17:48:07.593658Z",
     "shell.execute_reply.started": "2023-08-15T17:48:06.474083Z"
    }
   },
   "outputs": [],
   "source": [
    "pca = PCA(random_state = RANDOM_STATE)\n",
    "X_train_pca = pca.fit_transform(X_train_scaled)\n",
    "X_test_pca = pca.transform(X_test_scaled)"
   ]
  },
  {
   "cell_type": "code",
   "execution_count": 39,
   "metadata": {
    "execution": {
     "iopub.execute_input": "2023-08-15T17:48:09.614503Z",
     "iopub.status.busy": "2023-08-15T17:48:09.614197Z",
     "iopub.status.idle": "2023-08-15T17:48:09.620021Z",
     "shell.execute_reply": "2023-08-15T17:48:09.618399Z",
     "shell.execute_reply.started": "2023-08-15T17:48:09.614449Z"
    }
   },
   "outputs": [],
   "source": [
    "svc = LinearSVC(random_state=RANDOM_STATE)\n",
    "svc_params = {'C': [0.001, 0.01, 0.1, 1, 10]}"
   ]
  },
  {
   "cell_type": "code",
   "execution_count": 40,
   "metadata": {
    "execution": {
     "iopub.execute_input": "2023-08-15T17:49:50.462317Z",
     "iopub.status.busy": "2023-08-15T17:49:50.461976Z",
     "iopub.status.idle": "2023-08-15T17:50:09.401261Z",
     "shell.execute_reply": "2023-08-15T17:50:09.400379Z",
     "shell.execute_reply.started": "2023-08-15T17:49:50.462246Z"
    }
   },
   "outputs": [
    {
     "name": "stderr",
     "output_type": "stream",
     "text": [
      "/opt/conda/lib/python3.6/site-packages/sklearn/svm/base.py:931: ConvergenceWarning: Liblinear failed to converge, increase the number of iterations.\n",
      "  \"the number of iterations.\", ConvergenceWarning)\n",
      "/opt/conda/lib/python3.6/site-packages/sklearn/svm/base.py:931: ConvergenceWarning: Liblinear failed to converge, increase the number of iterations.\n",
      "  \"the number of iterations.\", ConvergenceWarning)\n",
      "/opt/conda/lib/python3.6/site-packages/sklearn/svm/base.py:931: ConvergenceWarning: Liblinear failed to converge, increase the number of iterations.\n",
      "  \"the number of iterations.\", ConvergenceWarning)\n",
      "/opt/conda/lib/python3.6/site-packages/sklearn/svm/base.py:931: ConvergenceWarning: Liblinear failed to converge, increase the number of iterations.\n",
      "  \"the number of iterations.\", ConvergenceWarning)\n",
      "/opt/conda/lib/python3.6/site-packages/sklearn/svm/base.py:931: ConvergenceWarning: Liblinear failed to converge, increase the number of iterations.\n",
      "  \"the number of iterations.\", ConvergenceWarning)\n",
      "/opt/conda/lib/python3.6/site-packages/sklearn/svm/base.py:931: ConvergenceWarning: Liblinear failed to converge, increase the number of iterations.\n",
      "  \"the number of iterations.\", ConvergenceWarning)\n",
      "/opt/conda/lib/python3.6/site-packages/sklearn/svm/base.py:931: ConvergenceWarning: Liblinear failed to converge, increase the number of iterations.\n",
      "  \"the number of iterations.\", ConvergenceWarning)\n",
      "/opt/conda/lib/python3.6/site-packages/sklearn/svm/base.py:931: ConvergenceWarning: Liblinear failed to converge, increase the number of iterations.\n",
      "  \"the number of iterations.\", ConvergenceWarning)\n",
      "/opt/conda/lib/python3.6/site-packages/sklearn/svm/base.py:931: ConvergenceWarning: Liblinear failed to converge, increase the number of iterations.\n",
      "  \"the number of iterations.\", ConvergenceWarning)\n",
      "/opt/conda/lib/python3.6/site-packages/sklearn/svm/base.py:931: ConvergenceWarning: Liblinear failed to converge, increase the number of iterations.\n",
      "  \"the number of iterations.\", ConvergenceWarning)\n",
      "/opt/conda/lib/python3.6/site-packages/sklearn/svm/base.py:931: ConvergenceWarning: Liblinear failed to converge, increase the number of iterations.\n",
      "  \"the number of iterations.\", ConvergenceWarning)\n"
     ]
    },
    {
     "name": "stdout",
     "output_type": "stream",
     "text": [
      "CPU times: user 26.5 s, sys: 3.21 s, total: 29.7 s\n",
      "Wall time: 24.1 s\n"
     ]
    },
    {
     "name": "stderr",
     "output_type": "stream",
     "text": [
      "/opt/conda/lib/python3.6/site-packages/sklearn/svm/base.py:931: ConvergenceWarning: Liblinear failed to converge, increase the number of iterations.\n",
      "  \"the number of iterations.\", ConvergenceWarning)\n"
     ]
    }
   ],
   "source": [
    "%%time\n",
    "clf = GridSearchCV(svc, svc_params, cv=3)\n",
    "clf.fit(X_train_pca[:, :MAX_COMPONENT], y_train)\n",
    "best_svc = clf"
   ]
  },
  {
   "cell_type": "code",
   "execution_count": 41,
   "metadata": {
    "execution": {
     "iopub.execute_input": "2023-08-15T17:50:21.387096Z",
     "iopub.status.busy": "2023-08-15T17:50:21.386778Z",
     "iopub.status.idle": "2023-08-15T17:50:21.393560Z",
     "shell.execute_reply": "2023-08-15T17:50:21.392453Z",
     "shell.execute_reply.started": "2023-08-15T17:50:21.387038Z"
    }
   },
   "outputs": [
    {
     "data": {
      "text/plain": [
       "({'C': 0.1}, 0.8993471164309031)"
      ]
     },
     "execution_count": 41,
     "metadata": {},
     "output_type": "execute_result"
    }
   ],
   "source": [
    "clf.best_params_, clf.best_score_"
   ]
  },
  {
   "cell_type": "code",
   "execution_count": 42,
   "metadata": {
    "_uuid": "51508ed1cc529287af7cb3ebe62c5112bd4e5d19",
    "execution": {
     "iopub.execute_input": "2023-08-15T17:50:24.862358Z",
     "iopub.status.busy": "2023-08-15T17:50:24.861909Z",
     "iopub.status.idle": "2023-08-15T17:50:24.868956Z",
     "shell.execute_reply": "2023-08-15T17:50:24.867862Z",
     "shell.execute_reply.started": "2023-08-15T17:50:24.862156Z"
    }
   },
   "outputs": [],
   "source": [
    "y_predicted_pca = best_svc.predict(X_test_pca[:, :MAX_COMPONENT])"
   ]
  },
  {
   "cell_type": "code",
   "execution_count": 43,
   "metadata": {
    "execution": {
     "iopub.execute_input": "2023-08-15T17:50:26.282584Z",
     "iopub.status.busy": "2023-08-15T17:50:26.282308Z",
     "iopub.status.idle": "2023-08-15T17:50:26.293411Z",
     "shell.execute_reply": "2023-08-15T17:50:26.291845Z",
     "shell.execute_reply.started": "2023-08-15T17:50:26.282548Z"
    }
   },
   "outputs": [
    {
     "name": "stdout",
     "output_type": "stream",
     "text": [
      "                    precision    recall  f1-score   support\n",
      "\n",
      "           walking       0.89      0.96      0.92       496\n",
      "  walking upstairs       0.91      0.86      0.89       471\n",
      "walking downstairs       0.95      0.92      0.94       420\n",
      "           sitting       0.90      0.87      0.88       491\n",
      "          standing       0.89      0.91      0.90       532\n",
      "       laying down       0.99      1.00      1.00       537\n",
      "\n",
      "         micro avg       0.92      0.92      0.92      2947\n",
      "         macro avg       0.92      0.92      0.92      2947\n",
      "      weighted avg       0.92      0.92      0.92      2947\n",
      "\n"
     ]
    }
   ],
   "source": [
    "print(classification_report(y_test, y_predicted_pca, target_names = label_mapping.values()))"
   ]
  },
  {
   "cell_type": "markdown",
   "metadata": {
    "_uuid": "01dc096cb4ea5717d8709f2a7581574211753cf8"
   },
   "source": [
    "**Question 10:** <br>\n",
    "Select all the correct statements:\n",
    "\n",
    "**Answer options:**\n",
    "- Principal component analysis in this case allowed to reduce the model training time, while the quality (mean cross-validation accuracy) suffered greatly, by more than 10%\n",
    "- **PCA can be used to visualize data, but there are better methods for this task, for example, tSNE. However, PCA has lower computational complexity**\n",
    "- PCA builds linear combinations of initial features, and in some applications they might be poorly interpreted by humans"
   ]
  }
 ],
 "metadata": {
  "kernelspec": {
   "display_name": "Python 3",
   "language": "python",
   "name": "python3"
  },
  "language_info": {
   "codemirror_mode": {
    "name": "ipython",
    "version": 3
   },
   "file_extension": ".py",
   "mimetype": "text/x-python",
   "name": "python",
   "nbconvert_exporter": "python",
   "pygments_lexer": "ipython3",
   "version": "3.6.4"
  }
 },
 "nbformat": 4,
 "nbformat_minor": 4
}
